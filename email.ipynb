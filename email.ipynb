{
 "cells": [
  {
   "cell_type": "code",
   "execution_count": 4,
   "id": "56be6b06",
   "metadata": {},
   "outputs": [],
   "source": [
    "import pandas as pd\n",
    "import numpy as np\n",
    "import nltk\n",
    "import re\n",
    "from nltk.corpus import stopwords\n",
    "from nltk.tokenize import word_tokenize\n",
    "import spacy\n",
    "import spacy\n",
    "nlp = spacy.load('en_core_web_sm')"
   ]
  },
  {
   "cell_type": "code",
   "execution_count": 35,
   "id": "69f890ea",
   "metadata": {},
   "outputs": [],
   "source": [
    "df=pd.read_csv('emails.csv')"
   ]
  },
  {
   "cell_type": "code",
   "execution_count": 6,
   "id": "b4c058bf",
   "metadata": {},
   "outputs": [
    {
     "data": {
      "text/html": [
       "<div>\n",
       "<style scoped>\n",
       "    .dataframe tbody tr th:only-of-type {\n",
       "        vertical-align: middle;\n",
       "    }\n",
       "\n",
       "    .dataframe tbody tr th {\n",
       "        vertical-align: top;\n",
       "    }\n",
       "\n",
       "    .dataframe thead th {\n",
       "        text-align: right;\n",
       "    }\n",
       "</style>\n",
       "<table border=\"1\" class=\"dataframe\">\n",
       "  <thead>\n",
       "    <tr style=\"text-align: right;\">\n",
       "      <th></th>\n",
       "      <th>text</th>\n",
       "      <th>spam</th>\n",
       "    </tr>\n",
       "  </thead>\n",
       "  <tbody>\n",
       "    <tr>\n",
       "      <th>0</th>\n",
       "      <td>Subject: naturally irresistible your corporate...</td>\n",
       "      <td>1</td>\n",
       "    </tr>\n",
       "    <tr>\n",
       "      <th>1</th>\n",
       "      <td>Subject: the stock trading gunslinger  fanny i...</td>\n",
       "      <td>1</td>\n",
       "    </tr>\n",
       "    <tr>\n",
       "      <th>2</th>\n",
       "      <td>Subject: unbelievable new homes made easy  im ...</td>\n",
       "      <td>1</td>\n",
       "    </tr>\n",
       "    <tr>\n",
       "      <th>3</th>\n",
       "      <td>Subject: 4 color printing special  request add...</td>\n",
       "      <td>1</td>\n",
       "    </tr>\n",
       "    <tr>\n",
       "      <th>4</th>\n",
       "      <td>Subject: do not have money , get software cds ...</td>\n",
       "      <td>1</td>\n",
       "    </tr>\n",
       "  </tbody>\n",
       "</table>\n",
       "</div>"
      ],
      "text/plain": [
       "                                                text  spam\n",
       "0  Subject: naturally irresistible your corporate...     1\n",
       "1  Subject: the stock trading gunslinger  fanny i...     1\n",
       "2  Subject: unbelievable new homes made easy  im ...     1\n",
       "3  Subject: 4 color printing special  request add...     1\n",
       "4  Subject: do not have money , get software cds ...     1"
      ]
     },
     "execution_count": 6,
     "metadata": {},
     "output_type": "execute_result"
    }
   ],
   "source": [
    "df.head()"
   ]
  },
  {
   "cell_type": "code",
   "execution_count": 7,
   "id": "5970fcee",
   "metadata": {},
   "outputs": [
    {
     "data": {
      "text/html": [
       "<div>\n",
       "<style scoped>\n",
       "    .dataframe tbody tr th:only-of-type {\n",
       "        vertical-align: middle;\n",
       "    }\n",
       "\n",
       "    .dataframe tbody tr th {\n",
       "        vertical-align: top;\n",
       "    }\n",
       "\n",
       "    .dataframe thead th {\n",
       "        text-align: right;\n",
       "    }\n",
       "</style>\n",
       "<table border=\"1\" class=\"dataframe\">\n",
       "  <thead>\n",
       "    <tr style=\"text-align: right;\">\n",
       "      <th></th>\n",
       "      <th>text</th>\n",
       "      <th>spam</th>\n",
       "    </tr>\n",
       "  </thead>\n",
       "  <tbody>\n",
       "    <tr>\n",
       "      <th>5723</th>\n",
       "      <td>Subject: re : research and development charges...</td>\n",
       "      <td>0</td>\n",
       "    </tr>\n",
       "    <tr>\n",
       "      <th>5724</th>\n",
       "      <td>Subject: re : receipts from visit  jim ,  than...</td>\n",
       "      <td>0</td>\n",
       "    </tr>\n",
       "    <tr>\n",
       "      <th>5725</th>\n",
       "      <td>Subject: re : enron case study update  wow ! a...</td>\n",
       "      <td>0</td>\n",
       "    </tr>\n",
       "    <tr>\n",
       "      <th>5726</th>\n",
       "      <td>Subject: re : interest  david ,  please , call...</td>\n",
       "      <td>0</td>\n",
       "    </tr>\n",
       "    <tr>\n",
       "      <th>5727</th>\n",
       "      <td>Subject: news : aurora 5 . 2 update  aurora ve...</td>\n",
       "      <td>0</td>\n",
       "    </tr>\n",
       "  </tbody>\n",
       "</table>\n",
       "</div>"
      ],
      "text/plain": [
       "                                                   text  spam\n",
       "5723  Subject: re : research and development charges...     0\n",
       "5724  Subject: re : receipts from visit  jim ,  than...     0\n",
       "5725  Subject: re : enron case study update  wow ! a...     0\n",
       "5726  Subject: re : interest  david ,  please , call...     0\n",
       "5727  Subject: news : aurora 5 . 2 update  aurora ve...     0"
      ]
     },
     "execution_count": 7,
     "metadata": {},
     "output_type": "execute_result"
    }
   ],
   "source": [
    "df.tail()"
   ]
  },
  {
   "cell_type": "code",
   "execution_count": 8,
   "id": "3de25d82",
   "metadata": {},
   "outputs": [
    {
     "data": {
      "text/html": [
       "<div>\n",
       "<style scoped>\n",
       "    .dataframe tbody tr th:only-of-type {\n",
       "        vertical-align: middle;\n",
       "    }\n",
       "\n",
       "    .dataframe tbody tr th {\n",
       "        vertical-align: top;\n",
       "    }\n",
       "\n",
       "    .dataframe thead th {\n",
       "        text-align: right;\n",
       "    }\n",
       "</style>\n",
       "<table border=\"1\" class=\"dataframe\">\n",
       "  <thead>\n",
       "    <tr style=\"text-align: right;\">\n",
       "      <th></th>\n",
       "      <th>spam</th>\n",
       "    </tr>\n",
       "  </thead>\n",
       "  <tbody>\n",
       "    <tr>\n",
       "      <th>count</th>\n",
       "      <td>5728.000000</td>\n",
       "    </tr>\n",
       "    <tr>\n",
       "      <th>mean</th>\n",
       "      <td>0.238827</td>\n",
       "    </tr>\n",
       "    <tr>\n",
       "      <th>std</th>\n",
       "      <td>0.426404</td>\n",
       "    </tr>\n",
       "    <tr>\n",
       "      <th>min</th>\n",
       "      <td>0.000000</td>\n",
       "    </tr>\n",
       "    <tr>\n",
       "      <th>25%</th>\n",
       "      <td>0.000000</td>\n",
       "    </tr>\n",
       "    <tr>\n",
       "      <th>50%</th>\n",
       "      <td>0.000000</td>\n",
       "    </tr>\n",
       "    <tr>\n",
       "      <th>75%</th>\n",
       "      <td>0.000000</td>\n",
       "    </tr>\n",
       "    <tr>\n",
       "      <th>max</th>\n",
       "      <td>1.000000</td>\n",
       "    </tr>\n",
       "  </tbody>\n",
       "</table>\n",
       "</div>"
      ],
      "text/plain": [
       "              spam\n",
       "count  5728.000000\n",
       "mean      0.238827\n",
       "std       0.426404\n",
       "min       0.000000\n",
       "25%       0.000000\n",
       "50%       0.000000\n",
       "75%       0.000000\n",
       "max       1.000000"
      ]
     },
     "execution_count": 8,
     "metadata": {},
     "output_type": "execute_result"
    }
   ],
   "source": [
    "df.describe()"
   ]
  },
  {
   "cell_type": "code",
   "execution_count": 9,
   "id": "f3fa7b07",
   "metadata": {},
   "outputs": [
    {
     "name": "stdout",
     "output_type": "stream",
     "text": [
      "<class 'pandas.core.frame.DataFrame'>\n",
      "RangeIndex: 5728 entries, 0 to 5727\n",
      "Data columns (total 2 columns):\n",
      " #   Column  Non-Null Count  Dtype \n",
      "---  ------  --------------  ----- \n",
      " 0   text    5728 non-null   object\n",
      " 1   spam    5728 non-null   int64 \n",
      "dtypes: int64(1), object(1)\n",
      "memory usage: 89.6+ KB\n"
     ]
    }
   ],
   "source": [
    "df.info()"
   ]
  },
  {
   "cell_type": "code",
   "execution_count": 10,
   "id": "81ff34f5",
   "metadata": {},
   "outputs": [
    {
     "data": {
      "text/plain": [
       "text    0\n",
       "spam    0\n",
       "dtype: int64"
      ]
     },
     "execution_count": 10,
     "metadata": {},
     "output_type": "execute_result"
    }
   ],
   "source": [
    "df.isnull().sum()"
   ]
  },
  {
   "cell_type": "code",
   "execution_count": 12,
   "id": "a8a2791e",
   "metadata": {},
   "outputs": [
    {
     "name": "stdout",
     "output_type": "stream",
     "text": [
      "\n",
      "Sentiment Distribution:\n",
      "spam\n",
      "0    4360\n",
      "1    1368\n",
      "Name: count, dtype: int64\n"
     ]
    }
   ],
   "source": [
    "pd.set_option('display.max_column',None)\n",
    "print(\"\\nSentiment Distribution:\")\n",
    "print(df['spam'].value_counts())"
   ]
  },
  {
   "cell_type": "code",
   "execution_count": 13,
   "id": "60dbe8ad",
   "metadata": {},
   "outputs": [
    {
     "data": {
      "text/plain": [
       "{'a',\n",
       " 'about',\n",
       " 'above',\n",
       " 'after',\n",
       " 'again',\n",
       " 'against',\n",
       " 'ain',\n",
       " 'all',\n",
       " 'am',\n",
       " 'an',\n",
       " 'and',\n",
       " 'any',\n",
       " 'are',\n",
       " 'aren',\n",
       " \"aren't\",\n",
       " 'as',\n",
       " 'at',\n",
       " 'be',\n",
       " 'because',\n",
       " 'been',\n",
       " 'before',\n",
       " 'being',\n",
       " 'below',\n",
       " 'between',\n",
       " 'both',\n",
       " 'but',\n",
       " 'by',\n",
       " 'can',\n",
       " 'couldn',\n",
       " \"couldn't\",\n",
       " 'd',\n",
       " 'did',\n",
       " 'didn',\n",
       " \"didn't\",\n",
       " 'do',\n",
       " 'does',\n",
       " 'doesn',\n",
       " \"doesn't\",\n",
       " 'doing',\n",
       " 'don',\n",
       " \"don't\",\n",
       " 'down',\n",
       " 'during',\n",
       " 'each',\n",
       " 'few',\n",
       " 'for',\n",
       " 'from',\n",
       " 'further',\n",
       " 'had',\n",
       " 'hadn',\n",
       " \"hadn't\",\n",
       " 'has',\n",
       " 'hasn',\n",
       " \"hasn't\",\n",
       " 'have',\n",
       " 'haven',\n",
       " \"haven't\",\n",
       " 'having',\n",
       " 'he',\n",
       " \"he'd\",\n",
       " \"he'll\",\n",
       " \"he's\",\n",
       " 'her',\n",
       " 'here',\n",
       " 'hers',\n",
       " 'herself',\n",
       " 'him',\n",
       " 'himself',\n",
       " 'his',\n",
       " 'how',\n",
       " 'i',\n",
       " \"i'd\",\n",
       " \"i'll\",\n",
       " \"i'm\",\n",
       " \"i've\",\n",
       " 'if',\n",
       " 'in',\n",
       " 'into',\n",
       " 'is',\n",
       " 'isn',\n",
       " \"isn't\",\n",
       " 'it',\n",
       " \"it'd\",\n",
       " \"it'll\",\n",
       " \"it's\",\n",
       " 'its',\n",
       " 'itself',\n",
       " 'just',\n",
       " 'll',\n",
       " 'm',\n",
       " 'ma',\n",
       " 'me',\n",
       " 'mightn',\n",
       " \"mightn't\",\n",
       " 'more',\n",
       " 'most',\n",
       " 'mustn',\n",
       " \"mustn't\",\n",
       " 'my',\n",
       " 'myself',\n",
       " 'needn',\n",
       " \"needn't\",\n",
       " 'no',\n",
       " 'nor',\n",
       " 'not',\n",
       " 'now',\n",
       " 'o',\n",
       " 'of',\n",
       " 'off',\n",
       " 'on',\n",
       " 'once',\n",
       " 'only',\n",
       " 'or',\n",
       " 'other',\n",
       " 'our',\n",
       " 'ours',\n",
       " 'ourselves',\n",
       " 'out',\n",
       " 'over',\n",
       " 'own',\n",
       " 're',\n",
       " 's',\n",
       " 'same',\n",
       " 'shan',\n",
       " \"shan't\",\n",
       " 'she',\n",
       " \"she'd\",\n",
       " \"she'll\",\n",
       " \"she's\",\n",
       " 'should',\n",
       " \"should've\",\n",
       " 'shouldn',\n",
       " \"shouldn't\",\n",
       " 'so',\n",
       " 'some',\n",
       " 'such',\n",
       " 't',\n",
       " 'than',\n",
       " 'that',\n",
       " \"that'll\",\n",
       " 'the',\n",
       " 'their',\n",
       " 'theirs',\n",
       " 'them',\n",
       " 'themselves',\n",
       " 'then',\n",
       " 'there',\n",
       " 'these',\n",
       " 'they',\n",
       " \"they'd\",\n",
       " \"they'll\",\n",
       " \"they're\",\n",
       " \"they've\",\n",
       " 'this',\n",
       " 'those',\n",
       " 'through',\n",
       " 'to',\n",
       " 'too',\n",
       " 'under',\n",
       " 'until',\n",
       " 'up',\n",
       " 've',\n",
       " 'very',\n",
       " 'was',\n",
       " 'wasn',\n",
       " \"wasn't\",\n",
       " 'we',\n",
       " \"we'd\",\n",
       " \"we'll\",\n",
       " \"we're\",\n",
       " \"we've\",\n",
       " 'were',\n",
       " 'weren',\n",
       " \"weren't\",\n",
       " 'what',\n",
       " 'when',\n",
       " 'where',\n",
       " 'which',\n",
       " 'while',\n",
       " 'who',\n",
       " 'whom',\n",
       " 'why',\n",
       " 'will',\n",
       " 'with',\n",
       " 'won',\n",
       " \"won't\",\n",
       " 'wouldn',\n",
       " \"wouldn't\",\n",
       " 'y',\n",
       " 'you',\n",
       " \"you'd\",\n",
       " \"you'll\",\n",
       " \"you're\",\n",
       " \"you've\",\n",
       " 'your',\n",
       " 'yours',\n",
       " 'yourself',\n",
       " 'yourselves'}"
      ]
     },
     "execution_count": 13,
     "metadata": {},
     "output_type": "execute_result"
    }
   ],
   "source": [
    "stop_words = set(stopwords.words('english'))\n",
    "stop_words"
   ]
  },
  {
   "cell_type": "code",
   "execution_count": 14,
   "id": "7fe13dc7",
   "metadata": {},
   "outputs": [],
   "source": [
    "def preprocess_text(text):\n",
    "\n",
    "    text=re.sub(r'<*?>','',text)  # Remove HTML tags\n",
    "    text=text.lower()  # Convert to lowercase\n",
    "    text=re.sub(r'[^a-z\\s]','',text)  # Remove non\n",
    "    tokens= word_tokenize(text)  # Tokenize text\n",
    "    tokens=[word for word in tokens if word not in stop_words]  # Remove stop\n",
    "    tokens = [word for word in tokens if word not in stop_words]\n",
    "    \n",
    "    # Lemmatization is often better than stemming\n",
    "    text = ' '.join(tokens)\n",
    "    doc = nlp(text)\n",
    "    lemmatized_tokens = [token.lemma_ for token in doc]\n",
    "    \n",
    "    return ' '.join(lemmatized_tokens)"
   ]
  },
  {
   "cell_type": "code",
   "execution_count": 15,
   "id": "13861a65",
   "metadata": {},
   "outputs": [
    {
     "name": "stdout",
     "output_type": "stream",
     "text": [
      "Preprocessing 5000 emails:\n",
      "preprocessing done.\n",
      "\n",
      " Comparing original and cleaned emails:\n"
     ]
    },
    {
     "data": {
      "text/html": [
       "<div>\n",
       "<style scoped>\n",
       "    .dataframe tbody tr th:only-of-type {\n",
       "        vertical-align: middle;\n",
       "    }\n",
       "\n",
       "    .dataframe tbody tr th {\n",
       "        vertical-align: top;\n",
       "    }\n",
       "\n",
       "    .dataframe thead th {\n",
       "        text-align: right;\n",
       "    }\n",
       "</style>\n",
       "<table border=\"1\" class=\"dataframe\">\n",
       "  <thead>\n",
       "    <tr style=\"text-align: right;\">\n",
       "      <th></th>\n",
       "      <th>text</th>\n",
       "      <th>Cleaned_text</th>\n",
       "    </tr>\n",
       "  </thead>\n",
       "  <tbody>\n",
       "    <tr>\n",
       "      <th>2224</th>\n",
       "      <td>Subject: 2 nd message - re : dec 2 super saturday interviewer confirmation  please see the attached for interviewer information .  shelly jones  11 / 28 / 2000 05 : 54 pm  to : scott earnest / hou / ect @ ect , tim mckone / corp / enron @ enron , richard  dimichele / enron communications @ enron communications , brandon  neff / hou / ees @ ees , john j lavorato / corp / enron @ enron , guido  caranti / enron _ development @ enron _ development , robert bailey / hou / ees @ ees , dixie  yeck / enron communications @ enron communications , cheryl lipshutz / hou / ect @ ect ,  john godbold / hou / ect @ ect , chuck randall / hou / ees @ ees , michelle  juden / hou / ees @ ees , mark reese / hou / ees @ ees , jim fallon / enron  communications @ enron communications , sarah wesner / corp / enron @ enron , sylvia  barnes / hou / ees @ ees , kirk neuner / enron communications @ enron communications ,  mari capestany / hou / ees @ ees , wayne perry / enron _ development @ enron _ development ,  john neslage / enron _ development @ enron _ development , fred lagrasta / hou / ect @ ect ,  bani arora / hou / ees @ ees , jonathan risch / hou / ees @ ees , heather  kroll / hou / ect @ ect , brad romine / na / enron @ enron , julia kazibwe / hou / ees @ ees ,  thomas rich / fgt / enron @ enron , mark smith / corp / enron @ enron , vince j  kaminski / hou / ect @ ect , kathy m lynn / corp / enron @ enron , stephen stenhouse / enron  communications @ enron communications , jere c overdyke / hou / ect @ ect , jim  meyn / na / enron @ enron , donald reid / enron @ gateway , ken gustafson / hou / ees @ ees ,  daniel reck / hou / ect @ ect  cc : sue foust / hou / ect @ ect , rebecca serwin / corp / enron @ enron , crissy  collett / enron communications @ enron communications , sonia  guerra / enron _ development @ enron _ development , mary lou  browder / enron _ development @ enron _ development , mary lou  browder / enron _ development @ enron _ development , adriana cortes / hou / ect @ ect ,  leticia botello / hou / ees @ ees , paula pierre / enron communications @ enron  communications , theresa davis / hou / ect @ ect , kelly lacalli / hou / ees @ ees , lily  guerra / hou / ees @ ees , lucy marshall / enron communications @ enron communications ,  amy rios / hou / ect @ ect , karen street / hou / ees @ ees , cindy long / corp / enron @ enron ,  becky young / na / enron @ enron , marcia a linton / na / enron @ enron , claudette  harvey / hou / ect @ ect , brenda flores - cuellar / na / enron @ enron , valerie  villareal / hou / ees @ ees , becky young / na / enron @ enron , amy  flores / corp / enron @ enron , sally slaughter / enron communications @ enron  communications , donna baker / hou / ect @ ect , chaun roberts / na / enron @ enron , terri  bachand / enron communications @ enron communications , angie collins / hou / ect @ ect  subject : dec 2 super saturday interviewer confirmation  please see the attached .  this is a confirmation for saturday interviews only . if you volunteered for  friday night dinner as well , notification will be sent via email by end of  work day wednesday regarding your friday night dinner participation .  please feel free to contact me with any questions .  thank you  shelly jones  ext . 3 - 0943</td>\n",
       "      <td>subject nd message dec super saturday interviewer confirmation please see attach interviewer information shelly jones pm scott earnest hou ect ect tim mckone corp enron enron richard dimichele enron communications enron communication brandon neff hou ees ees john j lavorato corp enron enron guido caranti enron development enron development robert bailey hou ees ee dixie yeck enron communications enron communications cheryl lipshutz hou ect ect john godbold hou ect ect chuck randall hou ees ee michelle juden hou ees ees mark reese hou ee ee jim fallon enron communication enron communication sarah wesner corp enron enron sylvia barne hou ees ee kirk neuner enron communications enron communication mari capestany hou ee ee wayne perry enron development enron development john neslage enron development enron development fred lagrasta hou ect ect bani arora hou ees ees jonathan risch hou ees ee heather kroll hou ect ect brad romine na enron enron julia kazibwe hou ee ee thomas rich fgt enron enron mark smith corp enron enron vince j kaminski hou ect ect kathy lynn corp enron enron stephen stenhouse enron communications enron communication jere c overdyke hou ect ect jim meyn na enron enron donald reid enron gateway ken gustafson hou ees ees daniel reck hou ect ect cc sue foust hou ect ect rebecca serwin corp enron enron crissy collett enron communications enron communication sonia guerra enron development enron development mary lou browder enron development enron development mary lou browder enron development enron development adriana corte hou ect ect leticia botello hou ees ee paula pierre enron communication enron communications theresa davis hou ect ect kelly lacalli hou ee ee lily guerra hou ees ee lucy marshall enron communications enron communication amy rio hou ect ect karen street hou ees ees cindy long corp enron enron becky young na enron enron marcia linton na enron enron claudette harvey hou ect ect brenda flore cuellar na enron enron valerie villareal hou ees ees becky young na enron enron amy flores corp enron enron sally slaughter enron communication enron communication donna baker hou ect ect chaun robert na enron enron terri bachand enron communications enron communication angie collin hou ect ect subject dec super saturday interviewer confirmation please see attach confirmation saturday interview volunteer friday night dinner well notification send via email end work day wednesday regard friday night dinner participation please feel free contact question thank shelly jones ext</td>\n",
       "    </tr>\n",
       "    <tr>\n",
       "      <th>4275</th>\n",
       "      <td>Subject: re : meeting re : wharton strategy  i am sorry . . . . . . as per message below we are changing it to friday at 9 : 00 .  vince j kaminski  10 / 24 / 2000 04 : 43 pm  to : jennifer burns / hou / ect @ ect  cc : vince j kaminski / hou / ect @ ect , shirley crenshaw / hou / ect @ ect  subject : re : meeting re : wharton strategy  jennifer ,  i can rearrange some other meetings . thursday , oct 26 @ 3 : 00 works for me .  vince  jennifer burns  10 / 24 / 2000 04 : 14 pm  to : michele nezi marvin / enron communications @ enron communications , mark  palmer / corp / enron @ enron , cindy derecskey / corp / enron @ enron , vince j  kaminski / hou / ect @ ect , shirley crenshaw / hou / ect @ ect , beth  miertschin / hou / ect @ ect , christie patrick / hou / ect @ ect , kristin  gandy / na / enron @ enron  cc :  subject : meeting re : wharton strategy  lets try for friday , october 27 @ 9 : 00 am , please let me know if you are  available . thanks !  - - - - - - - - - - - - - - - - - - - - - - forwarded by jennifer burns / hou / ect on 10 / 24 / 2000  04 : 07 pm - - - - - - - - - - - - - - - - - - - - - - - - - - -  jennifer burns  10 / 23 / 2000 11 : 08 am  to : michele nezi marvin / enron communications @ enron communications , sarah  mulholland / hou / ect @ ect , mark palmer / corp / enron @ enron , kristin  gandy / na / enron @ enron , beth miertschin / hou / ect @ ect , christie  patrick / hou / ect @ ect , jeffrey a shankman / hou / ect @ ect , vince j  kaminski / hou / ect @ ect  cc :  subject : meeting re : wharton strategy  jeff shankman would like to have a meeting re : wharton strategy . please let  me know if you would be available thursday , october 26 @ 3 : 00 . i will get  back with everyone to confirm a location . thanks !  jennifer</td>\n",
       "      <td>subject meeting wharton strategy sorry per message change friday vince j kaminski pm jennifer burn hou ect ect cc vince j kaminski hou ect ect shirley crenshaw hou ect ect subject meeting wharton strategy jennifer rearrange meeting thursday oct works vince jennifer burns pm michele nezi marvin enron communications enron communications mark palmer corp enron enron cindy derecskey corp enron enron vince j kaminski hou ect ect shirley crenshaw hou ect ect beth miertschin hou ect ect christie patrick hou ect ect kristin gandy na enron enron cc subject meeting wharton strategy let try friday october please let know available thank forward jennifer burns hou ect pm jennifer burns michele nezi marvin enron communications enron communication sarah mulholland hou ect ect mark palmer corp enron enron kristin gandy na enron enron beth miertschin hou ect ect christie patrick hou ect ect jeffrey shankman hou ect ect vince j kaminski hou ect ect cc subject meeting wharton strategy jeff shankman would like meet wharton strategy please let know would available thursday october get back everyone confirm location thank jennifer</td>\n",
       "    </tr>\n",
       "    <tr>\n",
       "      <th>634</th>\n",
       "      <td>Subject: a friendly professional online pharmacy focused on you !  enjoy having sex !  the jungle is dark but full of diamonds . . .  ignorance is not innocence but sin .  i would fain die a dry death .</td>\n",
       "      <td>subject friendly professional online pharmacy focus enjoy sex jungle dark full diamond ignorance innocence sin would fain die dry death</td>\n",
       "    </tr>\n",
       "    <tr>\n",
       "      <th>4544</th>\n",
       "      <td>Subject: ben zhang : nuts !  i also heard from joe toussaint that ben ' s boss counter - offered with a bump  in salary .  - - - - - - - - - - - - - - - - - - - - - - forwarded by grant masson / hou / ect on 09 / 18 / 2000 09 : 24  am - - - - - - - - - - - - - - - - - - - - - - - - - - -  \" zhang , ben \" on 09 / 18 / 2000 07 : 58 : 58 am  to : grant . masson @ enron . com  cc :  subject : thanks  dear mr . masson :  thank you very much for offering me an opportunity to work in your group .  however because of family reasons , i have to regrettably inform you that i  will not be able to make the move at this time . it has been a great  experience working with you on this process , and i greatly appreciate your  help .  i realized that this would have been a great opportunity for me , and i thank  you very much for everything . i hope you will still consider me for a  position in the future .  sincerely ,  ben</td>\n",
       "      <td>subject ben zhang nuts also hear joe toussaint ben boss counter offer bump salary forward grant masson hou ect zhang ben grant masson enron com cc subject thank dear mr masson thank much offer opportunity work group however family reason regrettably inform able make move time great experience working process greatly appreciate help realize would great opportunity thank much everything hope still consider position future sincerely ben</td>\n",
       "    </tr>\n",
       "    <tr>\n",
       "      <th>5618</th>\n",
       "      <td>Subject: ees organizational announcement  - - - - - - - - - - - - - - - - - - - - - - forwarded by pinnamaneni krishnarao / hou / ect on  04 / 12 / 2000 12 : 01 pm - - - - - - - - - - - - - - - - - - - - - - - - - - -  osman sezgen @ ees  04 / 12 / 2000 11 : 58 am  to : pinnamaneni krishnarao / hou / ect @ ect  cc :  subject : ees organizational announcement  - - - - - - - - - - - - - - - - - - - - - - forwarded by osman sezgen / hou / ees on 04 / 12 / 2000 11 : 57  am - - - - - - - - - - - - - - - - - - - - - - - - - - -  lou pai and tom white  04 / 12 / 2000 11 : 40 am  sent by : karen owens  to : all ees employees  cc :  subject : ees organizational announcement  at the core of ees \u0001 , s success has been our willingness to adapt to and embrace  change . tom and i are reminded of this again as we announce the departure of  john echols , whose extraordinary capabilities have been instrumental to the  successful launch of ees , and to our tremendous growth in the two - and - a - half  years since then . john is continuing his career at enron .  marty sunde , currently managing director of sales joe earle , president  and ceo of enron facility services ; kevin hughes , vice president and chief  accounting officer ; dan leff , managing director of account and delivery  management ; danny mccarty , managing director of ees - europe ; mark muller ,  managing director of corporate development ; vicki sharp , managing director  and general counsel ; and beth tilney , managing director of marketing ,  communications and human resources .  thank you for your continued commitment to ees . we \u0001 , ve just completed a great  quarter and are well positioned to meet or exceed our targets this year ! in  fact , this is the seventh consecutive quarter for record levels of new  contracting activity and we \u0001 , ve more than doubled our first quarter sales of  1999 . keep up the great work !</td>\n",
       "      <td>subject ee organizational announcement forward pinnamaneni krishnarao hou ect pm osman sezgen ee pinnamaneni krishnarao hou ect ect cc subject ee organizational announcement forward osman sezgen hou ees lou pai tom white send karen owens ee employee cc subject ee organizational announcement core ee success willingness adapt embrace change tom remind announce departure john echols whose extraordinary capability instrumental successful launch ee tremendous growth two half year since john continuing career enron marty sunde currently manage director sale joe earle president ceo enron facility service kevin hughe vice president chief accounting officer dan leff manage director account delivery management danny mccarty manage director ees europe mark muller managing director corporate development vicki sharp manage director general counsel beth tilney manage director marketing communication human resource thank continue commitment ee complete great quarter well position meet exceed target year fact seventh consecutive quarter record level new contracting activity double first quarter sale keep great work</td>\n",
       "    </tr>\n",
       "  </tbody>\n",
       "</table>\n",
       "</div>"
      ],
      "text/plain": [
       "                                                                                                                                                                                                                                                                                                                                                                                                                                                                                                                                                                                                                                                                                                                                                                                                                                                                                                                                                                                                                                                                                                                                                                                                                                                                                                                                                                                                                                                                                                                                                                                                                                                                                                                                                                                                                                                                                                                                                                                                                                                                                                                                                                                                                                                                                                                                                                                                                                                                                                                                                                                                                                                                                                                                                                                                                                                                                                                                                                                                                                                                                                                                                                                                                                                                                                                                                                                                              text  \\\n",
       "2224  Subject: 2 nd message - re : dec 2 super saturday interviewer confirmation  please see the attached for interviewer information .  shelly jones  11 / 28 / 2000 05 : 54 pm  to : scott earnest / hou / ect @ ect , tim mckone / corp / enron @ enron , richard  dimichele / enron communications @ enron communications , brandon  neff / hou / ees @ ees , john j lavorato / corp / enron @ enron , guido  caranti / enron _ development @ enron _ development , robert bailey / hou / ees @ ees , dixie  yeck / enron communications @ enron communications , cheryl lipshutz / hou / ect @ ect ,  john godbold / hou / ect @ ect , chuck randall / hou / ees @ ees , michelle  juden / hou / ees @ ees , mark reese / hou / ees @ ees , jim fallon / enron  communications @ enron communications , sarah wesner / corp / enron @ enron , sylvia  barnes / hou / ees @ ees , kirk neuner / enron communications @ enron communications ,  mari capestany / hou / ees @ ees , wayne perry / enron _ development @ enron _ development ,  john neslage / enron _ development @ enron _ development , fred lagrasta / hou / ect @ ect ,  bani arora / hou / ees @ ees , jonathan risch / hou / ees @ ees , heather  kroll / hou / ect @ ect , brad romine / na / enron @ enron , julia kazibwe / hou / ees @ ees ,  thomas rich / fgt / enron @ enron , mark smith / corp / enron @ enron , vince j  kaminski / hou / ect @ ect , kathy m lynn / corp / enron @ enron , stephen stenhouse / enron  communications @ enron communications , jere c overdyke / hou / ect @ ect , jim  meyn / na / enron @ enron , donald reid / enron @ gateway , ken gustafson / hou / ees @ ees ,  daniel reck / hou / ect @ ect  cc : sue foust / hou / ect @ ect , rebecca serwin / corp / enron @ enron , crissy  collett / enron communications @ enron communications , sonia  guerra / enron _ development @ enron _ development , mary lou  browder / enron _ development @ enron _ development , mary lou  browder / enron _ development @ enron _ development , adriana cortes / hou / ect @ ect ,  leticia botello / hou / ees @ ees , paula pierre / enron communications @ enron  communications , theresa davis / hou / ect @ ect , kelly lacalli / hou / ees @ ees , lily  guerra / hou / ees @ ees , lucy marshall / enron communications @ enron communications ,  amy rios / hou / ect @ ect , karen street / hou / ees @ ees , cindy long / corp / enron @ enron ,  becky young / na / enron @ enron , marcia a linton / na / enron @ enron , claudette  harvey / hou / ect @ ect , brenda flores - cuellar / na / enron @ enron , valerie  villareal / hou / ees @ ees , becky young / na / enron @ enron , amy  flores / corp / enron @ enron , sally slaughter / enron communications @ enron  communications , donna baker / hou / ect @ ect , chaun roberts / na / enron @ enron , terri  bachand / enron communications @ enron communications , angie collins / hou / ect @ ect  subject : dec 2 super saturday interviewer confirmation  please see the attached .  this is a confirmation for saturday interviews only . if you volunteered for  friday night dinner as well , notification will be sent via email by end of  work day wednesday regarding your friday night dinner participation .  please feel free to contact me with any questions .  thank you  shelly jones  ext . 3 - 0943   \n",
       "4275                                                                                                                                                                                                                                                                                                                                                                                                                                                                                                                                                                                                                                                                                                                                                                                                                                                                                                                                                                                                                                                                                                                                                                                                                                                                                                                                                                                                                                                                                                                                                         Subject: re : meeting re : wharton strategy  i am sorry . . . . . . as per message below we are changing it to friday at 9 : 00 .  vince j kaminski  10 / 24 / 2000 04 : 43 pm  to : jennifer burns / hou / ect @ ect  cc : vince j kaminski / hou / ect @ ect , shirley crenshaw / hou / ect @ ect  subject : re : meeting re : wharton strategy  jennifer ,  i can rearrange some other meetings . thursday , oct 26 @ 3 : 00 works for me .  vince  jennifer burns  10 / 24 / 2000 04 : 14 pm  to : michele nezi marvin / enron communications @ enron communications , mark  palmer / corp / enron @ enron , cindy derecskey / corp / enron @ enron , vince j  kaminski / hou / ect @ ect , shirley crenshaw / hou / ect @ ect , beth  miertschin / hou / ect @ ect , christie patrick / hou / ect @ ect , kristin  gandy / na / enron @ enron  cc :  subject : meeting re : wharton strategy  lets try for friday , october 27 @ 9 : 00 am , please let me know if you are  available . thanks !  - - - - - - - - - - - - - - - - - - - - - - forwarded by jennifer burns / hou / ect on 10 / 24 / 2000  04 : 07 pm - - - - - - - - - - - - - - - - - - - - - - - - - - -  jennifer burns  10 / 23 / 2000 11 : 08 am  to : michele nezi marvin / enron communications @ enron communications , sarah  mulholland / hou / ect @ ect , mark palmer / corp / enron @ enron , kristin  gandy / na / enron @ enron , beth miertschin / hou / ect @ ect , christie  patrick / hou / ect @ ect , jeffrey a shankman / hou / ect @ ect , vince j  kaminski / hou / ect @ ect  cc :  subject : meeting re : wharton strategy  jeff shankman would like to have a meeting re : wharton strategy . please let  me know if you would be available thursday , october 26 @ 3 : 00 . i will get  back with everyone to confirm a location . thanks !  jennifer   \n",
       "634                                                                                                                                                                                                                                                                                                                                                                                                                                                                                                                                                                                                                                                                                                                                                                                                                                                                                                                                                                                                                                                                                                                                                                                                                                                                                                                                                                                                                                                                                                                                                                                                                                                                                                                                                                                                                                                                                                                                                                                                                                                                                                                                                                                                                                                                                                                                                                                                                                                                                                                                                                                                                                                                                                                                                                                                                                                                                                                                                                                                                                                                                                                                                                                                     Subject: a friendly professional online pharmacy focused on you !  enjoy having sex !  the jungle is dark but full of diamonds . . .  ignorance is not innocence but sin .  i would fain die a dry death .   \n",
       "4544                                                                                                                                                                                                                                                                                                                                                                                                                                                                                                                                                                                                                                                                                                                                                                                                                                                                                                                                                                                                                                                                                                                                                                                                                                                                                                                                                                                                                                                                                                                                                                                                                                                                                                                                                                                                                                                                                                                                                                                                                                                                                                                                                                                                                                                                                                                                                                                                                                                     Subject: ben zhang : nuts !  i also heard from joe toussaint that ben ' s boss counter - offered with a bump  in salary .  - - - - - - - - - - - - - - - - - - - - - - forwarded by grant masson / hou / ect on 09 / 18 / 2000 09 : 24  am - - - - - - - - - - - - - - - - - - - - - - - - - - -  \" zhang , ben \" on 09 / 18 / 2000 07 : 58 : 58 am  to : grant . masson @ enron . com  cc :  subject : thanks  dear mr . masson :  thank you very much for offering me an opportunity to work in your group .  however because of family reasons , i have to regrettably inform you that i  will not be able to make the move at this time . it has been a great  experience working with you on this process , and i greatly appreciate your  help .  i realized that this would have been a great opportunity for me , and i thank  you very much for everything . i hope you will still consider me for a  position in the future .  sincerely ,  ben   \n",
       "5618                                                                                                                                                                                                                                                                                                                                                                                                                                                                                                                                                                                                                                                                                                                                                                                                                                                                                                                                                                                                                                                                                                                                                                                                                                                                                                                                                                                                                              Subject: ees organizational announcement  - - - - - - - - - - - - - - - - - - - - - - forwarded by pinnamaneni krishnarao / hou / ect on  04 / 12 / 2000 12 : 01 pm - - - - - - - - - - - - - - - - - - - - - - - - - - -  osman sezgen @ ees  04 / 12 / 2000 11 : 58 am  to : pinnamaneni krishnarao / hou / ect @ ect  cc :  subject : ees organizational announcement  - - - - - - - - - - - - - - - - - - - - - - forwarded by osman sezgen / hou / ees on 04 / 12 / 2000 11 : 57  am - - - - - - - - - - - - - - - - - - - - - - - - - - -  lou pai and tom white  04 / 12 / 2000 11 : 40 am  sent by : karen owens  to : all ees employees  cc :  subject : ees organizational announcement  at the core of ees \u0001 , s success has been our willingness to adapt to and embrace  change . tom and i are reminded of this again as we announce the departure of  john echols , whose extraordinary capabilities have been instrumental to the  successful launch of ees , and to our tremendous growth in the two - and - a - half  years since then . john is continuing his career at enron .  marty sunde , currently managing director of sales joe earle , president  and ceo of enron facility services ; kevin hughes , vice president and chief  accounting officer ; dan leff , managing director of account and delivery  management ; danny mccarty , managing director of ees - europe ; mark muller ,  managing director of corporate development ; vicki sharp , managing director  and general counsel ; and beth tilney , managing director of marketing ,  communications and human resources .  thank you for your continued commitment to ees . we \u0001 , ve just completed a great  quarter and are well positioned to meet or exceed our targets this year ! in  fact , this is the seventh consecutive quarter for record levels of new  contracting activity and we \u0001 , ve more than doubled our first quarter sales of  1999 . keep up the great work !   \n",
       "\n",
       "                                                                                                                                                                                                                                                                                                                                                                                                                                                                                                                                                                                                                                                                                                                                                                                                                                                                                                                                                                                                                                                                                                                                                                                                                                                                                                                                                                                                                                                                                                                                                                                                                                                                                                                                                                                                                                                                                                                                                                                                                                                                                                                                                                                                                                                                                                                                                                                                                                                                                                                                                                                                                               Cleaned_text  \n",
       "2224  subject nd message dec super saturday interviewer confirmation please see attach interviewer information shelly jones pm scott earnest hou ect ect tim mckone corp enron enron richard dimichele enron communications enron communication brandon neff hou ees ees john j lavorato corp enron enron guido caranti enron development enron development robert bailey hou ees ee dixie yeck enron communications enron communications cheryl lipshutz hou ect ect john godbold hou ect ect chuck randall hou ees ee michelle juden hou ees ees mark reese hou ee ee jim fallon enron communication enron communication sarah wesner corp enron enron sylvia barne hou ees ee kirk neuner enron communications enron communication mari capestany hou ee ee wayne perry enron development enron development john neslage enron development enron development fred lagrasta hou ect ect bani arora hou ees ees jonathan risch hou ees ee heather kroll hou ect ect brad romine na enron enron julia kazibwe hou ee ee thomas rich fgt enron enron mark smith corp enron enron vince j kaminski hou ect ect kathy lynn corp enron enron stephen stenhouse enron communications enron communication jere c overdyke hou ect ect jim meyn na enron enron donald reid enron gateway ken gustafson hou ees ees daniel reck hou ect ect cc sue foust hou ect ect rebecca serwin corp enron enron crissy collett enron communications enron communication sonia guerra enron development enron development mary lou browder enron development enron development mary lou browder enron development enron development adriana corte hou ect ect leticia botello hou ees ee paula pierre enron communication enron communications theresa davis hou ect ect kelly lacalli hou ee ee lily guerra hou ees ee lucy marshall enron communications enron communication amy rio hou ect ect karen street hou ees ees cindy long corp enron enron becky young na enron enron marcia linton na enron enron claudette harvey hou ect ect brenda flore cuellar na enron enron valerie villareal hou ees ees becky young na enron enron amy flores corp enron enron sally slaughter enron communication enron communication donna baker hou ect ect chaun robert na enron enron terri bachand enron communications enron communication angie collin hou ect ect subject dec super saturday interviewer confirmation please see attach confirmation saturday interview volunteer friday night dinner well notification send via email end work day wednesday regard friday night dinner participation please feel free contact question thank shelly jones ext  \n",
       "4275                                                                                                                                                                                                                                                                                                                                                                                                                                                                                                                                                                                                                                                                                                                                                                                                                                                                                                                                                                                                                                                                                                                                                                                                                                                                                                                                                                                                                                                                subject meeting wharton strategy sorry per message change friday vince j kaminski pm jennifer burn hou ect ect cc vince j kaminski hou ect ect shirley crenshaw hou ect ect subject meeting wharton strategy jennifer rearrange meeting thursday oct works vince jennifer burns pm michele nezi marvin enron communications enron communications mark palmer corp enron enron cindy derecskey corp enron enron vince j kaminski hou ect ect shirley crenshaw hou ect ect beth miertschin hou ect ect christie patrick hou ect ect kristin gandy na enron enron cc subject meeting wharton strategy let try friday october please let know available thank forward jennifer burns hou ect pm jennifer burns michele nezi marvin enron communications enron communication sarah mulholland hou ect ect mark palmer corp enron enron kristin gandy na enron enron beth miertschin hou ect ect christie patrick hou ect ect jeffrey shankman hou ect ect vince j kaminski hou ect ect cc subject meeting wharton strategy jeff shankman would like meet wharton strategy please let know would available thursday october get back everyone confirm location thank jennifer  \n",
       "634                                                                                                                                                                                                                                                                                                                                                                                                                                                                                                                                                                                                                                                                                                                                                                                                                                                                                                                                                                                                                                                                                                                                                                                                                                                                                                                                                                                                                                                                                                                                                                                                                                                                                                                                                                                                                                                                                                                                                                                                                                                                                                                                                                                                                                                                                                                                                                                                                                                                                                 subject friendly professional online pharmacy focus enjoy sex jungle dark full diamond ignorance innocence sin would fain die dry death  \n",
       "4544                                                                                                                                                                                                                                                                                                                                                                                                                                                                                                                                                                                                                                                                                                                                                                                                                                                                                                                                                                                                                                                                                                                                                                                                                                                                                                                                                                                                                                                                                                                                                                                                                                                                                                                                                                                                                                                                                                                                                                                                                                                                                                                                                                                  subject ben zhang nuts also hear joe toussaint ben boss counter offer bump salary forward grant masson hou ect zhang ben grant masson enron com cc subject thank dear mr masson thank much offer opportunity work group however family reason regrettably inform able make move time great experience working process greatly appreciate help realize would great opportunity thank much everything hope still consider position future sincerely ben  \n",
       "5618                                                                                                                                                                                                                                                                                                                                                                                                                                                                                                                                                                                                                                                                                                                                                                                                                                                                                                                                                                                                                                                                                                                                                                                                                                                                                                                                                                                                                                                                           subject ee organizational announcement forward pinnamaneni krishnarao hou ect pm osman sezgen ee pinnamaneni krishnarao hou ect ect cc subject ee organizational announcement forward osman sezgen hou ees lou pai tom white send karen owens ee employee cc subject ee organizational announcement core ee success willingness adapt embrace change tom remind announce departure john echols whose extraordinary capability instrumental successful launch ee tremendous growth two half year since john continuing career enron marty sunde currently manage director sale joe earle president ceo enron facility service kevin hughe vice president chief accounting officer dan leff manage director account delivery management danny mccarty manage director ees europe mark muller managing director corporate development vicki sharp manage director general counsel beth tilney manage director marketing communication human resource thank continue commitment ee complete great quarter well position meet exceed target year fact seventh consecutive quarter record level new contracting activity double first quarter sale keep great work  "
      ]
     },
     "metadata": {},
     "output_type": "display_data"
    }
   ],
   "source": [
    "print(\"Preprocessing 5000 emails:\")\n",
    "df=df.sample(5000).copy()\n",
    "df[\"Cleaned_text\"]=df[\"text\"].apply(preprocess_text)\n",
    "print(\"preprocessing done.\")\n",
    "\n",
    "print(\"\\n Comparing original and cleaned emails:\")\n",
    "pd.set_option('display.max_colwidth', None)\n",
    "display(df[['text', 'Cleaned_text']].head())"
   ]
  },
  {
   "cell_type": "code",
   "execution_count": 20,
   "id": "57c943aa",
   "metadata": {},
   "outputs": [
    {
     "name": "stdout",
     "output_type": "stream",
     "text": [
      "[0 1]\n"
     ]
    }
   ],
   "source": [
    "print(df[\"spam\"].unique())"
   ]
  },
  {
   "cell_type": "code",
   "execution_count": 21,
   "id": "e90c7d97",
   "metadata": {},
   "outputs": [],
   "source": [
    "y = df[\"spam\"].map({\"spam\": 1, \"ham\": 0})\n",
    "X = df[\"Cleaned_text\"]\n",
    "mask = y.notna()\n",
    "X = X[mask]\n",
    "y = y[mask]"
   ]
  },
  {
   "cell_type": "code",
   "execution_count": 23,
   "id": "03c95b50",
   "metadata": {},
   "outputs": [
    {
     "name": "stdout",
     "output_type": "stream",
     "text": [
      "[0 1]\n"
     ]
    }
   ],
   "source": [
    "print(df[\"spam\"].unique())"
   ]
  },
  {
   "cell_type": "code",
   "execution_count": 24,
   "id": "a5fcafd8",
   "metadata": {},
   "outputs": [],
   "source": [
    "y = df[\"spam\"].map({1: 1, 0: 0})"
   ]
  },
  {
   "cell_type": "code",
   "execution_count": 25,
   "id": "42d2ba8e",
   "metadata": {},
   "outputs": [],
   "source": [
    "y = df[\"spam\"].map({\"spam\": 1, \"ham\": 0})"
   ]
  },
  {
   "cell_type": "code",
   "execution_count": 26,
   "id": "6f8da241",
   "metadata": {},
   "outputs": [],
   "source": [
    "X = df[\"Cleaned_text\"]\n",
    "mask = y.notna()\n",
    "X = X[mask]\n",
    "y = y[mask]"
   ]
  },
  {
   "cell_type": "code",
   "execution_count": 27,
   "id": "99619b27",
   "metadata": {},
   "outputs": [
    {
     "name": "stdout",
     "output_type": "stream",
     "text": [
      "Accuracy: 0.992\n",
      "              precision    recall  f1-score   support\n",
      "\n",
      "           0       0.99      1.00      0.99       767\n",
      "           1       0.99      0.98      0.98       233\n",
      "\n",
      "    accuracy                           0.99      1000\n",
      "   macro avg       0.99      0.99      0.99      1000\n",
      "weighted avg       0.99      0.99      0.99      1000\n",
      "\n"
     ]
    }
   ],
   "source": [
    "from sklearn.model_selection import train_test_split\n",
    "from sklearn.feature_extraction.text import TfidfVectorizer\n",
    "from sklearn.svm import LinearSVC\n",
    "from sklearn.metrics import accuracy_score, classification_report\n",
    "\n",
    "# Use the correct mapping based on your data\n",
    "# If your spam column is 1/0:\n",
    "y = df[\"spam\"].map({1: 1, 0: 0})\n",
    "# If your spam column is \"spam\"/\"ham\", use:\n",
    "# y = df[\"spam\"].map({\"spam\": 1, \"ham\": 0})\n",
    "\n",
    "X = df[\"Cleaned_text\"]\n",
    "mask = y.notna()\n",
    "X = X[mask]\n",
    "y = y[mask]\n",
    "\n",
    "# Split data\n",
    "X_train, X_test, y_train, y_test = train_test_split(X, y, test_size=0.2, random_state=42)\n",
    "\n",
    "# Vectorize cleaned text\n",
    "vectorizer = TfidfVectorizer(stop_words='english', max_features=10000)\n",
    "X_train_vec = vectorizer.fit_transform(X_train)\n",
    "X_test_vec = vectorizer.transform(X_test)\n",
    "\n",
    "# Train SVM\n",
    "svm = LinearSVC()\n",
    "svm.fit(X_train_vec, y_train)\n",
    "\n",
    "# Predict and evaluate\n",
    "y_pred = svm.predict(X_test_vec)\n",
    "print(\"Accuracy:\", accuracy_score(y_test, y_pred))\n",
    "print(classification_report(y_test, y_pred))"
   ]
  },
  {
   "cell_type": "code",
   "execution_count": 28,
   "id": "8a50a28e",
   "metadata": {},
   "outputs": [
    {
     "name": "stdout",
     "output_type": "stream",
     "text": [
      "Mean Squared Error: 0.008\n"
     ]
    }
   ],
   "source": [
    "from sklearn.metrics import mean_squared_error\n",
    "\n",
    "mse = mean_squared_error(y_test, y_pred)\n",
    "print(\"Mean Squared Error:\", mse)"
   ]
  },
  {
   "cell_type": "code",
   "execution_count": 30,
   "id": "8b29b29a",
   "metadata": {},
   "outputs": [
    {
     "data": {
      "image/png": "[encoded data removed]",
      "text/plain": [
       "<Figure size 500x400 with 2 Axes>"
      ]
     },
     "metadata": {},
     "output_type": "display_data"
    }
   ],
   "source": [
    "from sklearn.metrics import confusion_matrix\n",
    "import seaborn as sns\n",
    "import matplotlib.pyplot as plt\n",
    "\n",
    "cm = confusion_matrix(y_test, y_pred)\n",
    "plt.figure(figsize=(5,4))\n",
    "sns.heatmap(cm, annot=True, fmt='d', cmap='Blues', xticklabels=['Not Spam', 'Spam'], yticklabels=['Not Spam', 'Spam'])\n",
    "plt.xlabel('Predicted')\n",
    "plt.ylabel('Actual')\n",
    "plt.title('Confusion Matrix')\n",
    "plt.show()"
   ]
  },
  {
   "cell_type": "code",
   "execution_count": 31,
   "id": "afab9951",
   "metadata": {},
   "outputs": [
    {
     "name": "stdout",
     "output_type": "stream",
     "text": [
      "Spam test prediction: Spam\n",
      "Ham test prediction: Ham\n"
     ]
    }
   ],
   "source": [
    "# Example: Test the model with one spam and one ham email\n",
    "\n",
    "def predict_email(text):\n",
    "    # Preprocess\n",
    "    cleaned = preprocess_text(text)\n",
    "    # Vectorize\n",
    "    vec = vectorizer.transform([cleaned])\n",
    "    # Predict\n",
    "    pred = svm.predict(vec)[0]\n",
    "    return \"Spam\" if pred == 1 else \"Ham\"\n",
    "\n",
    "# Test emails\n",
    "test_spam = \"Congratulations! You have won a $1000 Walmart gift card. Click here to claim your prize now.\"\n",
    "test_ham = \"Hi John, can we reschedule our meeting to next week? Let me know your availability.\"\n",
    "\n",
    "print(\"Spam test prediction:\", predict_email(test_spam))\n",
    "print(\"Ham test prediction:\", predict_email(test_ham))\n"
   ]
  },
  {
   "cell_type": "code",
   "execution_count": 32,
   "id": "e0c7241e",
   "metadata": {},
   "outputs": [
    {
     "name": "stdout",
     "output_type": "stream",
     "text": [
      "['This', 'is', 'an', 'example', '.']\n"
     ]
    },
    {
     "name": "stderr",
     "output_type": "stream",
     "text": [
      "[nltk_data] Downloading package punkt to /home/abdullah/nltk_data...\n",
      "[nltk_data]   Package punkt is already up-to-date!\n"
     ]
    }
   ],
   "source": [
    "import nltk\n",
    "nltk.download('punkt')\n",
    "print(nltk.word_tokenize(\"This is an example.\"))"
   ]
  },
  {
   "cell_type": "code",
   "execution_count": 1,
   "id": "a566fa55",
   "metadata": {},
   "outputs": [],
   "source": [
    "import spacy\n"
   ]
  },
  {
   "cell_type": "code",
   "execution_count": 2,
   "id": "b73b7d2e",
   "metadata": {},
   "outputs": [
    {
     "name": "stdout",
     "output_type": "stream",
     "text": [
      "Collecting en-core-web-sm==3.8.0\n",
      "  Downloading https://github.com/explosion/spacy-models/releases/download/en_core_web_sm-3.8.0/en_core_web_sm-3.8.0-py3-none-any.whl (12.8 MB)\n",
      "\u001b[2K     \u001b[90m━━━━━━━━━━━━━━━━━━━━━━━━━━━━━━━━━━━━━━━━\u001b[0m \u001b[32m12.8/12.8 MB\u001b[0m \u001b[31m5.2 MB/s\u001b[0m eta \u001b[36m0:00:00\u001b[0m00:01\u001b[0m00:01\u001b[0m\n",
      "\u001b[?25h\u001b[38;5;2m✔ Download and installation successful\u001b[0m\n",
      "You can now load the package via spacy.load('en_core_web_sm')\n",
      "\u001b[38;5;3m⚠ Restart to reload dependencies\u001b[0m\n",
      "If you are in a Jupyter or Colab notebook, you may need to restart Python in\n",
      "order to load all the package's dependencies. You can do this by selecting the\n",
      "'Restart kernel' or 'Restart runtime' option.\n"
     ]
    }
   ],
   "source": [
    "\n",
    "spacy.cli.download('en_core_web_sm')\n",
    "nlp= spacy.load('en_core_web_sm')"
   ]
  },
  {
   "cell_type": "code",
   "execution_count": 5,
   "id": "96771d41",
   "metadata": {},
   "outputs": [
    {
     "name": "stdout",
     "output_type": "stream",
     "text": [
      "Collecting en-core-web-sm==3.8.0\n",
      "  Downloading https://github.com/explosion/spacy-models/releases/download/en_core_web_sm-3.8.0/en_core_web_sm-3.8.0-py3-none-any.whl (12.8 MB)\n",
      "\u001b[2K     \u001b[90m━━━━━━━━━━━━━━━━━━━━━━━━━━━━━━━━━━━━━━━━\u001b[0m \u001b[32m12.8/12.8 MB\u001b[0m \u001b[31m2.2 MB/s\u001b[0m eta \u001b[36m0:00:00\u001b[0m00:01\u001b[0m00:01\u001b[0m\n",
      "\u001b[?25h\u001b[38;5;2m✔ Download and installation successful\u001b[0m\n",
      "You can now load the package via spacy.load('en_core_web_sm')\n",
      "\u001b[38;5;3m⚠ Restart to reload dependencies\u001b[0m\n",
      "If you are in a Jupyter or Colab notebook, you may need to restart Python in\n",
      "order to load all the package's dependencies. You can do this by selecting the\n",
      "'Restart kernel' or 'Restart runtime' option.\n",
      "['This', 'is', 'an', 'example', '.']\n"
     ]
    }
   ],
   "source": [
    "import spacy\n",
    "spacy.cli.download(\"en_core_web_sm\")  # Download the model if not present\n",
    "nlp = spacy.load(\"en_core_web_sm\")\n",
    "doc = nlp(\"This is an example.\")\n",
    "print([token.text for token in doc])"
   ]
  }
 ],
 "metadata": {
  "kernelspec": {
   "display_name": "venv",
   "language": "python",
   "name": "python3"
  },
  "language_info": {
   "codemirror_mode": {
    "name": "ipython",
    "version": 3
   },
   "file_extension": ".py",
   "mimetype": "text/x-python",
   "name": "python",
   "nbconvert_exporter": "python",
   "pygments_lexer": "ipython3",
   "version": "3.12.3"
  }
 },
 "nbformat": 4,
 "nbformat_minor": 5
}
